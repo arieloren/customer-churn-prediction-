{
  "nbformat": 4,
  "nbformat_minor": 0,
  "metadata": {
    "colab": {
      "provenance": []
    },
    "kernelspec": {
      "name": "python3",
      "display_name": "Python 3"
    },
    "language_info": {
      "name": "python"
    }
  },
  "cells": [
    {
      "cell_type": "markdown",
      "source": [
        "Data preparation"
      ],
      "metadata": {
        "id": "t-pZQJvOu57N"
      }
    },
    {
      "cell_type": "code",
      "execution_count": null,
      "metadata": {
        "id": "h710Fk3Yo7gc"
      },
      "outputs": [],
      "source": [
        "import pandas as pd"
      ]
    },
    {
      "cell_type": "code",
      "source": [
        "dataset = pd.read_csv('database_input.csv')\n"
      ],
      "metadata": {
        "id": "nAsYlUnYpXI8"
      },
      "execution_count": 126,
      "outputs": []
    },
    {
      "cell_type": "code",
      "source": [
        "# Nulls:\n",
        "dataset['TotalCharges'] = dataset['TotalCharges'].fillna(2279) # 2279 mean value in data\n",
        "dataset['TotalCharges'] = dataset['TotalCharges'].str.replace(' ','2279') # remove space string in data\n",
        "dataset['TotalCharges'] = dataset['TotalCharges'].astype(float)\n",
        "\n",
        "# Contract is a importnent feature in the model and cant be null, in case of null the model will not predict and need to sand alert.\n",
        "dataset['Contract'] = dataset['Contract'].dropna()\n",
        "\n",
        "dataset['PhoneService'].fillna('No')\n",
        "\n",
        "dataset['tenure'] = dataset['tenure'].fillna(dataset['tenure'].mean())"
      ],
      "metadata": {
        "id": "DauMCgOIvFpq"
      },
      "execution_count": 127,
      "outputs": []
    },
    {
      "cell_type": "code",
      "source": [
        "# Feature handeling:\n",
        "dataset['PhoneService'] = dataset['PhoneService'].map({'Yes':1,'No':0})\n",
        "\n",
        "dataset = dataset.join(pd.get_dummies(dataset['Contract']).astype(int))"
      ],
      "metadata": {
        "id": "UiFgcDbNx0IM"
      },
      "execution_count": 128,
      "outputs": []
    },
    {
      "cell_type": "code",
      "source": [
        "# TEST TO RUN MODEL\n",
        "result_columns = ['TotalCharges','Month-to-month','One year','Two year','PhoneService','tenure']\n",
        "\n",
        "with open('churn_model.pickle', 'rb') as f:\n",
        "    rf_model = pickle.load(f)\n",
        "\n",
        "rf_model.predict(dataset[result_columns])"
      ],
      "metadata": {
        "colab": {
          "base_uri": "https://localhost:8080/"
        },
        "id": "VWBgWAnwvFlC",
        "outputId": "775d4414-10a1-4bb3-bb7e-eb9b12d57e4c"
      },
      "execution_count": 130,
      "outputs": [
        {
          "output_type": "execute_result",
          "data": {
            "text/plain": [
              "array([1, 0, 1, ..., 0, 1, 0])"
            ]
          },
          "metadata": {},
          "execution_count": 130
        }
      ]
    }
  ]
}