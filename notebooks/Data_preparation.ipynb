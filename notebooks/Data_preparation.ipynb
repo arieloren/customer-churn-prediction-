{
  "cells": [
    {
      "cell_type": "markdown",
      "metadata": {
        "id": "t-pZQJvOu57N"
      },
      "source": [
        "Data preparation"
      ]
    },
    {
      "cell_type": "code",
      "execution_count": 1,
      "metadata": {
        "id": "h710Fk3Yo7gc"
      },
      "outputs": [],
      "source": [
        "import pandas as pd\n",
        "import pickle\n",
        "from pathlib import Path"
      ]
    },
    {
      "cell_type": "code",
      "execution_count": 4,
      "metadata": {
        "id": "nAsYlUnYpXI8"
      },
      "outputs": [],
      "source": [
        "# Go up one level from the current directory (notebooks -> project root)\n",
        "data_path = Path.cwd().parent / 'data'\n",
        "dataset = pd.read_csv(data_path / 'database_input.csv')\n"
      ]
    },
    {
      "cell_type": "code",
      "execution_count": 5,
      "metadata": {
        "id": "DauMCgOIvFpq"
      },
      "outputs": [],
      "source": [
        "\n",
        "# Nulls:\n",
        "dataset['TotalCharges'] = dataset['TotalCharges'].fillna(2279) # 2279 mean value in data\n",
        "dataset['TotalCharges'] = dataset['TotalCharges'].str.replace(' ','2279') # remove space string in data\n",
        "dataset['TotalCharges'] = dataset['TotalCharges'].astype(float)\n",
        "\n",
        "# Contract is a importnent feature in the model and cant be null, in case of null the model will not predict and need to sand alert.\n",
        "dataset['Contract'] = dataset['Contract'].dropna()\n",
        "\n",
        "dataset['PhoneService'].fillna('No')\n",
        "\n",
        "dataset['tenure'] = dataset['tenure'].fillna(dataset['tenure'].mean())"
      ]
    },
    {
      "cell_type": "code",
      "execution_count": 6,
      "metadata": {
        "id": "UiFgcDbNx0IM"
      },
      "outputs": [],
      "source": [
        "# Feature handeling:\n",
        "dataset['PhoneService'] = dataset['PhoneService'].map({'Yes':1,'No':0})\n",
        "\n",
        "dataset = dataset.join(pd.get_dummies(dataset['Contract']).astype(int))"
      ]
    },
    {
      "cell_type": "code",
      "execution_count": 7,
      "metadata": {},
      "outputs": [],
      "source": [
        "# Save the list of dummy columns for 'Contract'\n",
        "dummy_columns = pd.get_dummies(dataset['Contract']).columns.tolist()\n",
        "\n",
        "# Save to file in the data directory\n",
        "with open(data_path / 'dummy_contract_columns.pkl', 'wb') as f:\n",
        "    pickle.dump(dummy_columns, f)"
      ]
    },
    {
      "cell_type": "code",
      "execution_count": 130,
      "metadata": {
        "colab": {
          "base_uri": "https://localhost:8080/"
        },
        "id": "VWBgWAnwvFlC",
        "outputId": "775d4414-10a1-4bb3-bb7e-eb9b12d57e4c"
      },
      "outputs": [
        {
          "data": {
            "text/plain": [
              "array([1, 0, 1, ..., 0, 1, 0])"
            ]
          },
          "execution_count": 130,
          "metadata": {},
          "output_type": "execute_result"
        }
      ],
      "source": [
        "# TEST TO RUN MODEL\n",
        "result_columns = ['TotalCharges','Month-to-month','One year','Two year','PhoneService','tenure']\n",
        "\n",
        "with open('churn_model.pickle', 'rb') as f:\n",
        "    rf_model = pickle.load(f)\n",
        "\n",
        "rf_model.predict(dataset[result_columns])"
      ]
    }
  ],
  "metadata": {
    "colab": {
      "provenance": []
    },
    "kernelspec": {
      "display_name": "test",
      "language": "python",
      "name": "python3"
    },
    "language_info": {
      "codemirror_mode": {
        "name": "ipython",
        "version": 3
      },
      "file_extension": ".py",
      "mimetype": "text/x-python",
      "name": "python",
      "nbconvert_exporter": "python",
      "pygments_lexer": "ipython3",
      "version": "3.12.7"
    }
  },
  "nbformat": 4,
  "nbformat_minor": 0
}
